{
  "cells": [
    {
      "cell_type": "markdown",
      "metadata": {
        "id": "view-in-github",
        "colab_type": "text"
      },
      "source": [
        "<a href=\"https://colab.research.google.com/github/Nidhi89717/ML/blob/main/05-K-Nearest-Neighbors/02_KNN_Exercise_.ipynb\" target=\"_parent\"><img src=\"https://colab.research.google.com/assets/colab-badge.svg\" alt=\"Open In Colab\"/></a>"
      ]
    },
    {
      "cell_type": "markdown",
      "metadata": {
        "id": "1DNPRz_NjE3X"
      },
      "source": [
        "# KNN Project Exercise \n",
        "\n",
        "Due to the simplicity of KNN for Classification, let's focus on using a PipeLine and a GridSearchCV tool, since these skills can be generalized for any model."
      ]
    },
    {
      "cell_type": "markdown",
      "metadata": {
        "id": "f7GbH8mhjE3X"
      },
      "source": [
        "\n",
        "## The Sonar Data \n",
        "\n",
        "### Detecting a Rock or a Mine\n",
        "\n",
        "Sonar (sound navigation ranging) is a technique that uses sound propagation (usually underwater, as in submarine navigation) to navigate, communicate with or detect objects on or under the surface of the water, such as other vessels.\n",
        "\n",
        "<img src=\"sonar.jpg\"  style=\"max-height: 500px; max-width: 500px;\">\n",
        "\n",
        "The data set contains the response metrics for 60 separate sonar frequencies sent out against a known mine field (and known rocks). These frequencies are then labeled with the known object they were beaming the sound at (either a rock or a mine). \n",
        "\n",
        "<img src=\"mine.jpg\"  style=\"max-height: 500px; max-width: 500px;\">\n",
        "\n",
        "Our main goal is to create a machine learning model capable of detecting the difference between a rock or a mine based on the response of the 60 separate sonar frequencies.\n",
        "\n",
        "\n",
        "Data Source: https://archive.ics.uci.edu/ml/datasets/Connectionist+Bench+(Sonar,+Mines+vs.+Rocks)\n",
        "\n",
        "### Complete the Tasks in bold\n",
        "\n",
        "**TASK: Run the cells below to load the data.**"
      ]
    },
    {
      "cell_type": "code",
      "execution_count": 1,
      "metadata": {
        "id": "BqrS8WZTjE3X"
      },
      "outputs": [],
      "source": [
        "import numpy as np\n",
        "import pandas as pd\n",
        "import seaborn as sns\n",
        "import matplotlib.pyplot as plt"
      ]
    },
    {
      "cell_type": "code",
      "source": [
        "from google.colab import drive\n",
        "drive.mount('/content/gdrive')"
      ],
      "metadata": {
        "colab": {
          "base_uri": "https://localhost:8080/"
        },
        "id": "Fv-v6berjH5x",
        "outputId": "097dedf0-a942-447e-93a8-b222650ad780"
      },
      "execution_count": 2,
      "outputs": [
        {
          "output_type": "stream",
          "name": "stdout",
          "text": [
            "Mounted at /content/gdrive\n"
          ]
        }
      ]
    },
    {
      "cell_type": "code",
      "execution_count": 15,
      "metadata": {
        "id": "BBBY8K5xjE3Y"
      },
      "outputs": [],
      "source": [
        "df = pd.read_csv('gdrive/My Drive/csv_files/sonar.all-data.csv')"
      ]
    },
    {
      "cell_type": "code",
      "source": [
        "df.head()"
      ],
      "metadata": {
        "colab": {
          "base_uri": "https://localhost:8080/",
          "height": 299
        },
        "id": "e7khYDYwjdu0",
        "outputId": "31a00f58-750b-417e-8298-2403c0e8b3e8"
      },
      "execution_count": 4,
      "outputs": [
        {
          "output_type": "execute_result",
          "data": {
            "text/plain": [
              "   Freq_1  Freq_2  Freq_3  Freq_4  Freq_5  Freq_6  Freq_7  Freq_8  Freq_9  \\\n",
              "0  0.0200  0.0371  0.0428  0.0207  0.0954  0.0986  0.1539  0.1601  0.3109   \n",
              "1  0.0453  0.0523  0.0843  0.0689  0.1183  0.2583  0.2156  0.3481  0.3337   \n",
              "2  0.0262  0.0582  0.1099  0.1083  0.0974  0.2280  0.2431  0.3771  0.5598   \n",
              "3  0.0100  0.0171  0.0623  0.0205  0.0205  0.0368  0.1098  0.1276  0.0598   \n",
              "4  0.0762  0.0666  0.0481  0.0394  0.0590  0.0649  0.1209  0.2467  0.3564   \n",
              "\n",
              "   Freq_10  ...  Freq_52  Freq_53  Freq_54  Freq_55  Freq_56  Freq_57  \\\n",
              "0   0.2111  ...   0.0027   0.0065   0.0159   0.0072   0.0167   0.0180   \n",
              "1   0.2872  ...   0.0084   0.0089   0.0048   0.0094   0.0191   0.0140   \n",
              "2   0.6194  ...   0.0232   0.0166   0.0095   0.0180   0.0244   0.0316   \n",
              "3   0.1264  ...   0.0121   0.0036   0.0150   0.0085   0.0073   0.0050   \n",
              "4   0.4459  ...   0.0031   0.0054   0.0105   0.0110   0.0015   0.0072   \n",
              "\n",
              "   Freq_58  Freq_59  Freq_60  Label  \n",
              "0   0.0084   0.0090   0.0032      R  \n",
              "1   0.0049   0.0052   0.0044      R  \n",
              "2   0.0164   0.0095   0.0078      R  \n",
              "3   0.0044   0.0040   0.0117      R  \n",
              "4   0.0048   0.0107   0.0094      R  \n",
              "\n",
              "[5 rows x 61 columns]"
            ],
            "text/html": [
              "\n",
              "  <div id=\"df-84be75fb-1ef2-4272-ae2c-afceaac473c8\">\n",
              "    <div class=\"colab-df-container\">\n",
              "      <div>\n",
              "<style scoped>\n",
              "    .dataframe tbody tr th:only-of-type {\n",
              "        vertical-align: middle;\n",
              "    }\n",
              "\n",
              "    .dataframe tbody tr th {\n",
              "        vertical-align: top;\n",
              "    }\n",
              "\n",
              "    .dataframe thead th {\n",
              "        text-align: right;\n",
              "    }\n",
              "</style>\n",
              "<table border=\"1\" class=\"dataframe\">\n",
              "  <thead>\n",
              "    <tr style=\"text-align: right;\">\n",
              "      <th></th>\n",
              "      <th>Freq_1</th>\n",
              "      <th>Freq_2</th>\n",
              "      <th>Freq_3</th>\n",
              "      <th>Freq_4</th>\n",
              "      <th>Freq_5</th>\n",
              "      <th>Freq_6</th>\n",
              "      <th>Freq_7</th>\n",
              "      <th>Freq_8</th>\n",
              "      <th>Freq_9</th>\n",
              "      <th>Freq_10</th>\n",
              "      <th>...</th>\n",
              "      <th>Freq_52</th>\n",
              "      <th>Freq_53</th>\n",
              "      <th>Freq_54</th>\n",
              "      <th>Freq_55</th>\n",
              "      <th>Freq_56</th>\n",
              "      <th>Freq_57</th>\n",
              "      <th>Freq_58</th>\n",
              "      <th>Freq_59</th>\n",
              "      <th>Freq_60</th>\n",
              "      <th>Label</th>\n",
              "    </tr>\n",
              "  </thead>\n",
              "  <tbody>\n",
              "    <tr>\n",
              "      <th>0</th>\n",
              "      <td>0.0200</td>\n",
              "      <td>0.0371</td>\n",
              "      <td>0.0428</td>\n",
              "      <td>0.0207</td>\n",
              "      <td>0.0954</td>\n",
              "      <td>0.0986</td>\n",
              "      <td>0.1539</td>\n",
              "      <td>0.1601</td>\n",
              "      <td>0.3109</td>\n",
              "      <td>0.2111</td>\n",
              "      <td>...</td>\n",
              "      <td>0.0027</td>\n",
              "      <td>0.0065</td>\n",
              "      <td>0.0159</td>\n",
              "      <td>0.0072</td>\n",
              "      <td>0.0167</td>\n",
              "      <td>0.0180</td>\n",
              "      <td>0.0084</td>\n",
              "      <td>0.0090</td>\n",
              "      <td>0.0032</td>\n",
              "      <td>R</td>\n",
              "    </tr>\n",
              "    <tr>\n",
              "      <th>1</th>\n",
              "      <td>0.0453</td>\n",
              "      <td>0.0523</td>\n",
              "      <td>0.0843</td>\n",
              "      <td>0.0689</td>\n",
              "      <td>0.1183</td>\n",
              "      <td>0.2583</td>\n",
              "      <td>0.2156</td>\n",
              "      <td>0.3481</td>\n",
              "      <td>0.3337</td>\n",
              "      <td>0.2872</td>\n",
              "      <td>...</td>\n",
              "      <td>0.0084</td>\n",
              "      <td>0.0089</td>\n",
              "      <td>0.0048</td>\n",
              "      <td>0.0094</td>\n",
              "      <td>0.0191</td>\n",
              "      <td>0.0140</td>\n",
              "      <td>0.0049</td>\n",
              "      <td>0.0052</td>\n",
              "      <td>0.0044</td>\n",
              "      <td>R</td>\n",
              "    </tr>\n",
              "    <tr>\n",
              "      <th>2</th>\n",
              "      <td>0.0262</td>\n",
              "      <td>0.0582</td>\n",
              "      <td>0.1099</td>\n",
              "      <td>0.1083</td>\n",
              "      <td>0.0974</td>\n",
              "      <td>0.2280</td>\n",
              "      <td>0.2431</td>\n",
              "      <td>0.3771</td>\n",
              "      <td>0.5598</td>\n",
              "      <td>0.6194</td>\n",
              "      <td>...</td>\n",
              "      <td>0.0232</td>\n",
              "      <td>0.0166</td>\n",
              "      <td>0.0095</td>\n",
              "      <td>0.0180</td>\n",
              "      <td>0.0244</td>\n",
              "      <td>0.0316</td>\n",
              "      <td>0.0164</td>\n",
              "      <td>0.0095</td>\n",
              "      <td>0.0078</td>\n",
              "      <td>R</td>\n",
              "    </tr>\n",
              "    <tr>\n",
              "      <th>3</th>\n",
              "      <td>0.0100</td>\n",
              "      <td>0.0171</td>\n",
              "      <td>0.0623</td>\n",
              "      <td>0.0205</td>\n",
              "      <td>0.0205</td>\n",
              "      <td>0.0368</td>\n",
              "      <td>0.1098</td>\n",
              "      <td>0.1276</td>\n",
              "      <td>0.0598</td>\n",
              "      <td>0.1264</td>\n",
              "      <td>...</td>\n",
              "      <td>0.0121</td>\n",
              "      <td>0.0036</td>\n",
              "      <td>0.0150</td>\n",
              "      <td>0.0085</td>\n",
              "      <td>0.0073</td>\n",
              "      <td>0.0050</td>\n",
              "      <td>0.0044</td>\n",
              "      <td>0.0040</td>\n",
              "      <td>0.0117</td>\n",
              "      <td>R</td>\n",
              "    </tr>\n",
              "    <tr>\n",
              "      <th>4</th>\n",
              "      <td>0.0762</td>\n",
              "      <td>0.0666</td>\n",
              "      <td>0.0481</td>\n",
              "      <td>0.0394</td>\n",
              "      <td>0.0590</td>\n",
              "      <td>0.0649</td>\n",
              "      <td>0.1209</td>\n",
              "      <td>0.2467</td>\n",
              "      <td>0.3564</td>\n",
              "      <td>0.4459</td>\n",
              "      <td>...</td>\n",
              "      <td>0.0031</td>\n",
              "      <td>0.0054</td>\n",
              "      <td>0.0105</td>\n",
              "      <td>0.0110</td>\n",
              "      <td>0.0015</td>\n",
              "      <td>0.0072</td>\n",
              "      <td>0.0048</td>\n",
              "      <td>0.0107</td>\n",
              "      <td>0.0094</td>\n",
              "      <td>R</td>\n",
              "    </tr>\n",
              "  </tbody>\n",
              "</table>\n",
              "<p>5 rows × 61 columns</p>\n",
              "</div>\n",
              "      <button class=\"colab-df-convert\" onclick=\"convertToInteractive('df-84be75fb-1ef2-4272-ae2c-afceaac473c8')\"\n",
              "              title=\"Convert this dataframe to an interactive table.\"\n",
              "              style=\"display:none;\">\n",
              "        \n",
              "  <svg xmlns=\"http://www.w3.org/2000/svg\" height=\"24px\"viewBox=\"0 0 24 24\"\n",
              "       width=\"24px\">\n",
              "    <path d=\"M0 0h24v24H0V0z\" fill=\"none\"/>\n",
              "    <path d=\"M18.56 5.44l.94 2.06.94-2.06 2.06-.94-2.06-.94-.94-2.06-.94 2.06-2.06.94zm-11 1L8.5 8.5l.94-2.06 2.06-.94-2.06-.94L8.5 2.5l-.94 2.06-2.06.94zm10 10l.94 2.06.94-2.06 2.06-.94-2.06-.94-.94-2.06-.94 2.06-2.06.94z\"/><path d=\"M17.41 7.96l-1.37-1.37c-.4-.4-.92-.59-1.43-.59-.52 0-1.04.2-1.43.59L10.3 9.45l-7.72 7.72c-.78.78-.78 2.05 0 2.83L4 21.41c.39.39.9.59 1.41.59.51 0 1.02-.2 1.41-.59l7.78-7.78 2.81-2.81c.8-.78.8-2.07 0-2.86zM5.41 20L4 18.59l7.72-7.72 1.47 1.35L5.41 20z\"/>\n",
              "  </svg>\n",
              "      </button>\n",
              "      \n",
              "  <style>\n",
              "    .colab-df-container {\n",
              "      display:flex;\n",
              "      flex-wrap:wrap;\n",
              "      gap: 12px;\n",
              "    }\n",
              "\n",
              "    .colab-df-convert {\n",
              "      background-color: #E8F0FE;\n",
              "      border: none;\n",
              "      border-radius: 50%;\n",
              "      cursor: pointer;\n",
              "      display: none;\n",
              "      fill: #1967D2;\n",
              "      height: 32px;\n",
              "      padding: 0 0 0 0;\n",
              "      width: 32px;\n",
              "    }\n",
              "\n",
              "    .colab-df-convert:hover {\n",
              "      background-color: #E2EBFA;\n",
              "      box-shadow: 0px 1px 2px rgba(60, 64, 67, 0.3), 0px 1px 3px 1px rgba(60, 64, 67, 0.15);\n",
              "      fill: #174EA6;\n",
              "    }\n",
              "\n",
              "    [theme=dark] .colab-df-convert {\n",
              "      background-color: #3B4455;\n",
              "      fill: #D2E3FC;\n",
              "    }\n",
              "\n",
              "    [theme=dark] .colab-df-convert:hover {\n",
              "      background-color: #434B5C;\n",
              "      box-shadow: 0px 1px 3px 1px rgba(0, 0, 0, 0.15);\n",
              "      filter: drop-shadow(0px 1px 2px rgba(0, 0, 0, 0.3));\n",
              "      fill: #FFFFFF;\n",
              "    }\n",
              "  </style>\n",
              "\n",
              "      <script>\n",
              "        const buttonEl =\n",
              "          document.querySelector('#df-84be75fb-1ef2-4272-ae2c-afceaac473c8 button.colab-df-convert');\n",
              "        buttonEl.style.display =\n",
              "          google.colab.kernel.accessAllowed ? 'block' : 'none';\n",
              "\n",
              "        async function convertToInteractive(key) {\n",
              "          const element = document.querySelector('#df-84be75fb-1ef2-4272-ae2c-afceaac473c8');\n",
              "          const dataTable =\n",
              "            await google.colab.kernel.invokeFunction('convertToInteractive',\n",
              "                                                     [key], {});\n",
              "          if (!dataTable) return;\n",
              "\n",
              "          const docLinkHtml = 'Like what you see? Visit the ' +\n",
              "            '<a target=\"_blank\" href=https://colab.research.google.com/notebooks/data_table.ipynb>data table notebook</a>'\n",
              "            + ' to learn more about interactive tables.';\n",
              "          element.innerHTML = '';\n",
              "          dataTable['output_type'] = 'display_data';\n",
              "          await google.colab.output.renderOutput(dataTable, element);\n",
              "          const docLink = document.createElement('div');\n",
              "          docLink.innerHTML = docLinkHtml;\n",
              "          element.appendChild(docLink);\n",
              "        }\n",
              "      </script>\n",
              "    </div>\n",
              "  </div>\n",
              "  "
            ]
          },
          "metadata": {},
          "execution_count": 4
        }
      ]
    },
    {
      "cell_type": "markdown",
      "metadata": {
        "id": "Dp5ayu-fjE3Y"
      },
      "source": [
        "## Data Exploration\n",
        "\n",
        "**TASK: Create a heatmap of the correlation between the difference frequency responses.**"
      ]
    },
    {
      "cell_type": "code",
      "execution_count": 20,
      "metadata": {
        "colab": {
          "base_uri": "https://localhost:8080/",
          "height": 424
        },
        "id": "RKbed3tjjE3Y",
        "outputId": "f51977c3-4d28-4bb3-f910-f262d4e1f1ea"
      },
      "outputs": [
        {
          "output_type": "execute_result",
          "data": {
            "text/plain": [
              "<matplotlib.axes._subplots.AxesSubplot at 0x7fd99485c430>"
            ]
          },
          "metadata": {},
          "execution_count": 20
        },
        {
          "output_type": "display_data",
          "data": {
            "text/plain": [
              "<Figure size 576x432 with 2 Axes>"
            ],
            "image/png": "[encoded data removed]"
          },
          "metadata": {
            "needs_background": "light"
          }
        }
      ],
      "source": [
        "# CODE HERE\n",
        "plt.figure(figsize=(8,6))\n",
        "sns.heatmap(df.corr(),cmap='coolwarm')"
      ]
    },
    {
      "cell_type": "code",
      "execution_count": null,
      "metadata": {
        "scrolled": false,
        "id": "MUd897Y5jE3Y",
        "outputId": "1bb1ecde-ed9f-40c5-d7bf-70a590eef777"
      },
      "outputs": [
        {
          "data": {
            "text/plain": [
              "<AxesSubplot:>"
            ]
          },
          "execution_count": 98,
          "metadata": {},
          "output_type": "execute_result"
        },
        {
          "data": {
            "image/png": "[encoded data removed]",
            "text/plain": [
              "<Figure size 576x432 with 2 Axes>"
            ]
          },
          "metadata": {
            "needs_background": "light"
          },
          "output_type": "display_data"
        }
      ],
      "source": []
    },
    {
      "cell_type": "markdown",
      "metadata": {
        "id": "HTFHIiKJjE3Z"
      },
      "source": [
        "**TASK: What are the top 5 correlated frequencies with the target\\label?**\n",
        "\n",
        "*Note: You many need to map the label to 0s and 1s.*\n",
        "\n",
        "*Additional Note: We're looking for **absolute** correlation values.*"
      ]
    },
    {
      "cell_type": "code",
      "source": [
        "df['target'] = df['Label'].map({'R':0,'M':1})"
      ],
      "metadata": {
        "id": "ITXM-Oo-zpQ4"
      },
      "execution_count": 21,
      "outputs": []
    },
    {
      "cell_type": "code",
      "source": [
        "df.head()"
      ],
      "metadata": {
        "colab": {
          "base_uri": "https://localhost:8080/",
          "height": 299
        },
        "id": "biduymu60E5R",
        "outputId": "63de638f-5f5e-453b-80c3-baa9213b9a1a"
      },
      "execution_count": 22,
      "outputs": [
        {
          "output_type": "execute_result",
          "data": {
            "text/plain": [
              "   Freq_1  Freq_2  Freq_3  Freq_4  Freq_5  Freq_6  Freq_7  Freq_8  Freq_9  \\\n",
              "0  0.0200  0.0371  0.0428  0.0207  0.0954  0.0986  0.1539  0.1601  0.3109   \n",
              "1  0.0453  0.0523  0.0843  0.0689  0.1183  0.2583  0.2156  0.3481  0.3337   \n",
              "2  0.0262  0.0582  0.1099  0.1083  0.0974  0.2280  0.2431  0.3771  0.5598   \n",
              "3  0.0100  0.0171  0.0623  0.0205  0.0205  0.0368  0.1098  0.1276  0.0598   \n",
              "4  0.0762  0.0666  0.0481  0.0394  0.0590  0.0649  0.1209  0.2467  0.3564   \n",
              "\n",
              "   Freq_10  ...  Freq_53  Freq_54  Freq_55  Freq_56  Freq_57  Freq_58  \\\n",
              "0   0.2111  ...   0.0065   0.0159   0.0072   0.0167   0.0180   0.0084   \n",
              "1   0.2872  ...   0.0089   0.0048   0.0094   0.0191   0.0140   0.0049   \n",
              "2   0.6194  ...   0.0166   0.0095   0.0180   0.0244   0.0316   0.0164   \n",
              "3   0.1264  ...   0.0036   0.0150   0.0085   0.0073   0.0050   0.0044   \n",
              "4   0.4459  ...   0.0054   0.0105   0.0110   0.0015   0.0072   0.0048   \n",
              "\n",
              "   Freq_59  Freq_60  Label  target  \n",
              "0   0.0090   0.0032      R       0  \n",
              "1   0.0052   0.0044      R       0  \n",
              "2   0.0095   0.0078      R       0  \n",
              "3   0.0040   0.0117      R       0  \n",
              "4   0.0107   0.0094      R       0  \n",
              "\n",
              "[5 rows x 62 columns]"
            ],
            "text/html": [
              "\n",
              "  <div id=\"df-39176337-5841-46e5-897a-2d2b2ad40cd5\">\n",
              "    <div class=\"colab-df-container\">\n",
              "      <div>\n",
              "<style scoped>\n",
              "    .dataframe tbody tr th:only-of-type {\n",
              "        vertical-align: middle;\n",
              "    }\n",
              "\n",
              "    .dataframe tbody tr th {\n",
              "        vertical-align: top;\n",
              "    }\n",
              "\n",
              "    .dataframe thead th {\n",
              "        text-align: right;\n",
              "    }\n",
              "</style>\n",
              "<table border=\"1\" class=\"dataframe\">\n",
              "  <thead>\n",
              "    <tr style=\"text-align: right;\">\n",
              "      <th></th>\n",
              "      <th>Freq_1</th>\n",
              "      <th>Freq_2</th>\n",
              "      <th>Freq_3</th>\n",
              "      <th>Freq_4</th>\n",
              "      <th>Freq_5</th>\n",
              "      <th>Freq_6</th>\n",
              "      <th>Freq_7</th>\n",
              "      <th>Freq_8</th>\n",
              "      <th>Freq_9</th>\n",
              "      <th>Freq_10</th>\n",
              "      <th>...</th>\n",
              "      <th>Freq_53</th>\n",
              "      <th>Freq_54</th>\n",
              "      <th>Freq_55</th>\n",
              "      <th>Freq_56</th>\n",
              "      <th>Freq_57</th>\n",
              "      <th>Freq_58</th>\n",
              "      <th>Freq_59</th>\n",
              "      <th>Freq_60</th>\n",
              "      <th>Label</th>\n",
              "      <th>target</th>\n",
              "    </tr>\n",
              "  </thead>\n",
              "  <tbody>\n",
              "    <tr>\n",
              "      <th>0</th>\n",
              "      <td>0.0200</td>\n",
              "      <td>0.0371</td>\n",
              "      <td>0.0428</td>\n",
              "      <td>0.0207</td>\n",
              "      <td>0.0954</td>\n",
              "      <td>0.0986</td>\n",
              "      <td>0.1539</td>\n",
              "      <td>0.1601</td>\n",
              "      <td>0.3109</td>\n",
              "      <td>0.2111</td>\n",
              "      <td>...</td>\n",
              "      <td>0.0065</td>\n",
              "      <td>0.0159</td>\n",
              "      <td>0.0072</td>\n",
              "      <td>0.0167</td>\n",
              "      <td>0.0180</td>\n",
              "      <td>0.0084</td>\n",
              "      <td>0.0090</td>\n",
              "      <td>0.0032</td>\n",
              "      <td>R</td>\n",
              "      <td>0</td>\n",
              "    </tr>\n",
              "    <tr>\n",
              "      <th>1</th>\n",
              "      <td>0.0453</td>\n",
              "      <td>0.0523</td>\n",
              "      <td>0.0843</td>\n",
              "      <td>0.0689</td>\n",
              "      <td>0.1183</td>\n",
              "      <td>0.2583</td>\n",
              "      <td>0.2156</td>\n",
              "      <td>0.3481</td>\n",
              "      <td>0.3337</td>\n",
              "      <td>0.2872</td>\n",
              "      <td>...</td>\n",
              "      <td>0.0089</td>\n",
              "      <td>0.0048</td>\n",
              "      <td>0.0094</td>\n",
              "      <td>0.0191</td>\n",
              "      <td>0.0140</td>\n",
              "      <td>0.0049</td>\n",
              "      <td>0.0052</td>\n",
              "      <td>0.0044</td>\n",
              "      <td>R</td>\n",
              "      <td>0</td>\n",
              "    </tr>\n",
              "    <tr>\n",
              "      <th>2</th>\n",
              "      <td>0.0262</td>\n",
              "      <td>0.0582</td>\n",
              "      <td>0.1099</td>\n",
              "      <td>0.1083</td>\n",
              "      <td>0.0974</td>\n",
              "      <td>0.2280</td>\n",
              "      <td>0.2431</td>\n",
              "      <td>0.3771</td>\n",
              "      <td>0.5598</td>\n",
              "      <td>0.6194</td>\n",
              "      <td>...</td>\n",
              "      <td>0.0166</td>\n",
              "      <td>0.0095</td>\n",
              "      <td>0.0180</td>\n",
              "      <td>0.0244</td>\n",
              "      <td>0.0316</td>\n",
              "      <td>0.0164</td>\n",
              "      <td>0.0095</td>\n",
              "      <td>0.0078</td>\n",
              "      <td>R</td>\n",
              "      <td>0</td>\n",
              "    </tr>\n",
              "    <tr>\n",
              "      <th>3</th>\n",
              "      <td>0.0100</td>\n",
              "      <td>0.0171</td>\n",
              "      <td>0.0623</td>\n",
              "      <td>0.0205</td>\n",
              "      <td>0.0205</td>\n",
              "      <td>0.0368</td>\n",
              "      <td>0.1098</td>\n",
              "      <td>0.1276</td>\n",
              "      <td>0.0598</td>\n",
              "      <td>0.1264</td>\n",
              "      <td>...</td>\n",
              "      <td>0.0036</td>\n",
              "      <td>0.0150</td>\n",
              "      <td>0.0085</td>\n",
              "      <td>0.0073</td>\n",
              "      <td>0.0050</td>\n",
              "      <td>0.0044</td>\n",
              "      <td>0.0040</td>\n",
              "      <td>0.0117</td>\n",
              "      <td>R</td>\n",
              "      <td>0</td>\n",
              "    </tr>\n",
              "    <tr>\n",
              "      <th>4</th>\n",
              "      <td>0.0762</td>\n",
              "      <td>0.0666</td>\n",
              "      <td>0.0481</td>\n",
              "      <td>0.0394</td>\n",
              "      <td>0.0590</td>\n",
              "      <td>0.0649</td>\n",
              "      <td>0.1209</td>\n",
              "      <td>0.2467</td>\n",
              "      <td>0.3564</td>\n",
              "      <td>0.4459</td>\n",
              "      <td>...</td>\n",
              "      <td>0.0054</td>\n",
              "      <td>0.0105</td>\n",
              "      <td>0.0110</td>\n",
              "      <td>0.0015</td>\n",
              "      <td>0.0072</td>\n",
              "      <td>0.0048</td>\n",
              "      <td>0.0107</td>\n",
              "      <td>0.0094</td>\n",
              "      <td>R</td>\n",
              "      <td>0</td>\n",
              "    </tr>\n",
              "  </tbody>\n",
              "</table>\n",
              "<p>5 rows × 62 columns</p>\n",
              "</div>\n",
              "      <button class=\"colab-df-convert\" onclick=\"convertToInteractive('df-39176337-5841-46e5-897a-2d2b2ad40cd5')\"\n",
              "              title=\"Convert this dataframe to an interactive table.\"\n",
              "              style=\"display:none;\">\n",
              "        \n",
              "  <svg xmlns=\"http://www.w3.org/2000/svg\" height=\"24px\"viewBox=\"0 0 24 24\"\n",
              "       width=\"24px\">\n",
              "    <path d=\"M0 0h24v24H0V0z\" fill=\"none\"/>\n",
              "    <path d=\"M18.56 5.44l.94 2.06.94-2.06 2.06-.94-2.06-.94-.94-2.06-.94 2.06-2.06.94zm-11 1L8.5 8.5l.94-2.06 2.06-.94-2.06-.94L8.5 2.5l-.94 2.06-2.06.94zm10 10l.94 2.06.94-2.06 2.06-.94-2.06-.94-.94-2.06-.94 2.06-2.06.94z\"/><path d=\"M17.41 7.96l-1.37-1.37c-.4-.4-.92-.59-1.43-.59-.52 0-1.04.2-1.43.59L10.3 9.45l-7.72 7.72c-.78.78-.78 2.05 0 2.83L4 21.41c.39.39.9.59 1.41.59.51 0 1.02-.2 1.41-.59l7.78-7.78 2.81-2.81c.8-.78.8-2.07 0-2.86zM5.41 20L4 18.59l7.72-7.72 1.47 1.35L5.41 20z\"/>\n",
              "  </svg>\n",
              "      </button>\n",
              "      \n",
              "  <style>\n",
              "    .colab-df-container {\n",
              "      display:flex;\n",
              "      flex-wrap:wrap;\n",
              "      gap: 12px;\n",
              "    }\n",
              "\n",
              "    .colab-df-convert {\n",
              "      background-color: #E8F0FE;\n",
              "      border: none;\n",
              "      border-radius: 50%;\n",
              "      cursor: pointer;\n",
              "      display: none;\n",
              "      fill: #1967D2;\n",
              "      height: 32px;\n",
              "      padding: 0 0 0 0;\n",
              "      width: 32px;\n",
              "    }\n",
              "\n",
              "    .colab-df-convert:hover {\n",
              "      background-color: #E2EBFA;\n",
              "      box-shadow: 0px 1px 2px rgba(60, 64, 67, 0.3), 0px 1px 3px 1px rgba(60, 64, 67, 0.15);\n",
              "      fill: #174EA6;\n",
              "    }\n",
              "\n",
              "    [theme=dark] .colab-df-convert {\n",
              "      background-color: #3B4455;\n",
              "      fill: #D2E3FC;\n",
              "    }\n",
              "\n",
              "    [theme=dark] .colab-df-convert:hover {\n",
              "      background-color: #434B5C;\n",
              "      box-shadow: 0px 1px 3px 1px rgba(0, 0, 0, 0.15);\n",
              "      filter: drop-shadow(0px 1px 2px rgba(0, 0, 0, 0.3));\n",
              "      fill: #FFFFFF;\n",
              "    }\n",
              "  </style>\n",
              "\n",
              "      <script>\n",
              "        const buttonEl =\n",
              "          document.querySelector('#df-39176337-5841-46e5-897a-2d2b2ad40cd5 button.colab-df-convert');\n",
              "        buttonEl.style.display =\n",
              "          google.colab.kernel.accessAllowed ? 'block' : 'none';\n",
              "\n",
              "        async function convertToInteractive(key) {\n",
              "          const element = document.querySelector('#df-39176337-5841-46e5-897a-2d2b2ad40cd5');\n",
              "          const dataTable =\n",
              "            await google.colab.kernel.invokeFunction('convertToInteractive',\n",
              "                                                     [key], {});\n",
              "          if (!dataTable) return;\n",
              "\n",
              "          const docLinkHtml = 'Like what you see? Visit the ' +\n",
              "            '<a target=\"_blank\" href=https://colab.research.google.com/notebooks/data_table.ipynb>data table notebook</a>'\n",
              "            + ' to learn more about interactive tables.';\n",
              "          element.innerHTML = '';\n",
              "          dataTable['output_type'] = 'display_data';\n",
              "          await google.colab.output.renderOutput(dataTable, element);\n",
              "          const docLink = document.createElement('div');\n",
              "          docLink.innerHTML = docLinkHtml;\n",
              "          element.appendChild(docLink);\n",
              "        }\n",
              "      </script>\n",
              "    </div>\n",
              "  </div>\n",
              "  "
            ]
          },
          "metadata": {},
          "execution_count": 22
        }
      ]
    },
    {
      "cell_type": "code",
      "execution_count": 37,
      "metadata": {
        "colab": {
          "base_uri": "https://localhost:8080/"
        },
        "id": "TO2nPTK1jE3Z",
        "outputId": "fda3596a-fca0-4e13-f526-8f99bfa918be"
      },
      "outputs": [
        {
          "output_type": "execute_result",
          "data": {
            "text/plain": [
              "target     1.000000\n",
              "Freq_11    0.432855\n",
              "Freq_12    0.392245\n",
              "Freq_49    0.351312\n",
              "Freq_10    0.341142\n",
              "Name: target, dtype: float64"
            ]
          },
          "metadata": {},
          "execution_count": 37
        }
      ],
      "source": [
        "#CODE HERE\n",
        "df.corr()['target'].abs().sort_values(ascending=False)[:5]"
      ]
    },
    {
      "cell_type": "code",
      "execution_count": null,
      "metadata": {
        "id": "ZMtAemrTjE3Z",
        "outputId": "c131a0e7-2e34-426e-ffd8-9d537577c3ee"
      },
      "outputs": [
        {
          "data": {
            "text/plain": [
              "Freq_45    0.339406\n",
              "Freq_10    0.341142\n",
              "Freq_49    0.351312\n",
              "Freq_12    0.392245\n",
              "Freq_11    0.432855\n",
              "Target     1.000000\n",
              "Name: Target, dtype: float64"
            ]
          },
          "execution_count": 101,
          "metadata": {},
          "output_type": "execute_result"
        }
      ],
      "source": []
    },
    {
      "cell_type": "markdown",
      "metadata": {
        "id": "qtJfFf1CjE3Z"
      },
      "source": [
        "## Train | Test Split\n",
        "\n",
        "Our approach here will be one of using Cross Validation on 90% of the dataset, and then judging our results on a final test set of 10% to evaluate our model.\n",
        "\n",
        "**TASK: Split the data into features and labels, and then split into a training set and test set, with 90% for Cross-Validation training, and 10% for a final test set.**\n",
        "\n",
        "*Note: The solution uses a random_state=42*"
      ]
    },
    {
      "cell_type": "code",
      "execution_count": 38,
      "metadata": {
        "id": "IBB4WH3-jE3Z"
      },
      "outputs": [],
      "source": [
        "# CODE HERE\n",
        "from sklearn.model_selection import train_test_split"
      ]
    },
    {
      "cell_type": "code",
      "execution_count": 39,
      "metadata": {
        "id": "w2dEa3ttjE3Z"
      },
      "outputs": [],
      "source": [
        "X = df.drop(['Label','target'],axis=1)\n",
        "y = df['Label']"
      ]
    },
    {
      "cell_type": "code",
      "source": [
        "X_train, X_test, y_train, y_test = train_test_split(X, y, test_size=0.1, random_state=42)"
      ],
      "metadata": {
        "id": "PgoqL5F26Xtv"
      },
      "execution_count": 40,
      "outputs": []
    },
    {
      "cell_type": "markdown",
      "metadata": {
        "id": "Jozvi-ktjE3Z"
      },
      "source": [
        "**TASK: Create a PipeLine that contains both a StandardScaler and a KNN model**"
      ]
    },
    {
      "cell_type": "code",
      "execution_count": 41,
      "metadata": {
        "id": "mvh-cS1bjE3Z"
      },
      "outputs": [],
      "source": [
        "# CODE HERE\n",
        "from sklearn.preprocessing import StandardScaler\n",
        "from sklearn.neighbors import KNeighborsClassifier"
      ]
    },
    {
      "cell_type": "code",
      "source": [
        "scaler = StandardScaler()\n",
        "knn = KNeighborsClassifier()"
      ],
      "metadata": {
        "id": "0IMLOwHQ7CBu"
      },
      "execution_count": 42,
      "outputs": []
    },
    {
      "cell_type": "code",
      "source": [
        "operations = [('scaler',scaler),('knn',knn)]"
      ],
      "metadata": {
        "id": "GForT-s17Ksy"
      },
      "execution_count": 43,
      "outputs": []
    },
    {
      "cell_type": "code",
      "source": [
        "from sklearn.pipeline import Pipeline"
      ],
      "metadata": {
        "id": "obhPUuta7WPe"
      },
      "execution_count": 44,
      "outputs": []
    },
    {
      "cell_type": "code",
      "source": [
        "pipe = Pipeline(operations)"
      ],
      "metadata": {
        "id": "abC3IxAF9Vru"
      },
      "execution_count": 45,
      "outputs": []
    },
    {
      "cell_type": "markdown",
      "metadata": {
        "id": "5-Qe9rOwjE3Z"
      },
      "source": [
        "**TASK: Perform a grid-search with the pipeline to test various values of k and report back the best performing parameters.**"
      ]
    },
    {
      "cell_type": "code",
      "execution_count": 46,
      "metadata": {
        "id": "1fQYwz3YjE3a"
      },
      "outputs": [],
      "source": [
        "# CODE HERE\n",
        "from sklearn.model_selection import GridSearchCV"
      ]
    },
    {
      "cell_type": "code",
      "source": [
        "k_values = list(range(1,30))"
      ],
      "metadata": {
        "id": "7EZ6a1My9imh"
      },
      "execution_count": 47,
      "outputs": []
    },
    {
      "cell_type": "code",
      "source": [
        "param_grid = {'knn__n_neighbors':k_values}"
      ],
      "metadata": {
        "id": "rhIay52__T7r"
      },
      "execution_count": 48,
      "outputs": []
    },
    {
      "cell_type": "code",
      "source": [
        "full_cv_classifier = GridSearchCV(pipe,param_grid,cv=5,scoring='accuracy')"
      ],
      "metadata": {
        "id": "gSINohm__ksW"
      },
      "execution_count": 49,
      "outputs": []
    },
    {
      "cell_type": "code",
      "source": [
        "full_cv_classifier.fit(X_train,y_train)"
      ],
      "metadata": {
        "colab": {
          "base_uri": "https://localhost:8080/"
        },
        "id": "JoGPHrujAMkv",
        "outputId": "717db3ed-bfff-4305-f277-91b3f46333ae"
      },
      "execution_count": 51,
      "outputs": [
        {
          "output_type": "execute_result",
          "data": {
            "text/plain": [
              "GridSearchCV(cv=5,\n",
              "             estimator=Pipeline(steps=[('scaler', StandardScaler()),\n",
              "                                       ('knn', KNeighborsClassifier())]),\n",
              "             param_grid={'knn__n_neighbors': [1, 2, 3, 4, 5, 6, 7, 8, 9, 10, 11,\n",
              "                                              12, 13, 14, 15, 16, 17, 18, 19,\n",
              "                                              20, 21, 22, 23, 24, 25, 26, 27,\n",
              "                                              28, 29]},\n",
              "             scoring='accuracy')"
            ]
          },
          "metadata": {},
          "execution_count": 51
        }
      ]
    },
    {
      "cell_type": "code",
      "execution_count": null,
      "metadata": {
        "id": "QAQvaKvsjE3a",
        "outputId": "46adfbc3-936e-4267-b567-2f12dd12bebc"
      },
      "outputs": [
        {
          "data": {
            "text/plain": [
              "GridSearchCV(cv=5,\n",
              "             estimator=Pipeline(steps=[('scaler', StandardScaler()),\n",
              "                                       ('knn', KNeighborsClassifier())]),\n",
              "             param_grid={'knn__n_neighbors': [1, 2, 3, 4, 5, 6, 7, 8, 9, 10, 11,\n",
              "                                              12, 13, 14, 15, 16, 17, 18, 19,\n",
              "                                              20, 21, 22, 23, 24, 25, 26, 27,\n",
              "                                              28, 29]},\n",
              "             scoring='accuracy')"
            ]
          },
          "execution_count": 82,
          "metadata": {},
          "output_type": "execute_result"
        }
      ],
      "source": []
    },
    {
      "cell_type": "code",
      "source": [
        "full_cv_classifier.best_estimator_.get_params()"
      ],
      "metadata": {
        "colab": {
          "base_uri": "https://localhost:8080/"
        },
        "id": "4XxoGttTAZQw",
        "outputId": "4385abe3-6417-49eb-d7e8-534f475c7051"
      },
      "execution_count": 52,
      "outputs": [
        {
          "output_type": "execute_result",
          "data": {
            "text/plain": [
              "{'memory': None,\n",
              " 'steps': [('scaler', StandardScaler()),\n",
              "  ('knn', KNeighborsClassifier(n_neighbors=1))],\n",
              " 'verbose': False,\n",
              " 'scaler': StandardScaler(),\n",
              " 'knn': KNeighborsClassifier(n_neighbors=1),\n",
              " 'scaler__copy': True,\n",
              " 'scaler__with_mean': True,\n",
              " 'scaler__with_std': True,\n",
              " 'knn__algorithm': 'auto',\n",
              " 'knn__leaf_size': 30,\n",
              " 'knn__metric': 'minkowski',\n",
              " 'knn__metric_params': None,\n",
              " 'knn__n_jobs': None,\n",
              " 'knn__n_neighbors': 1,\n",
              " 'knn__p': 2,\n",
              " 'knn__weights': 'uniform'}"
            ]
          },
          "metadata": {},
          "execution_count": 52
        }
      ]
    },
    {
      "cell_type": "code",
      "execution_count": null,
      "metadata": {
        "id": "KlrQzXB5jE3a",
        "outputId": "fd9d0034-371b-44a8-ad5c-3a6d28310259"
      },
      "outputs": [
        {
          "data": {
            "text/plain": [
              "{'memory': None,\n",
              " 'steps': [('scaler', StandardScaler()),\n",
              "  ('knn', KNeighborsClassifier(n_neighbors=1))],\n",
              " 'verbose': False,\n",
              " 'scaler': StandardScaler(),\n",
              " 'knn': KNeighborsClassifier(n_neighbors=1),\n",
              " 'scaler__copy': True,\n",
              " 'scaler__with_mean': True,\n",
              " 'scaler__with_std': True,\n",
              " 'knn__algorithm': 'auto',\n",
              " 'knn__leaf_size': 30,\n",
              " 'knn__metric': 'minkowski',\n",
              " 'knn__metric_params': None,\n",
              " 'knn__n_jobs': None,\n",
              " 'knn__n_neighbors': 1,\n",
              " 'knn__p': 2,\n",
              " 'knn__weights': 'uniform'}"
            ]
          },
          "execution_count": 83,
          "metadata": {},
          "output_type": "execute_result"
        }
      ],
      "source": []
    },
    {
      "cell_type": "markdown",
      "metadata": {
        "id": "KbUwLQLkjE3a"
      },
      "source": [
        "**(HARD) TASK: Using the .cv_results_ dictionary, see if you can create a plot of the mean test scores per K value.**"
      ]
    },
    {
      "cell_type": "code",
      "execution_count": 53,
      "metadata": {
        "colab": {
          "base_uri": "https://localhost:8080/",
          "height": 1000
        },
        "id": "D9jszaWYjE3a",
        "outputId": "d7f2432b-4823-49c6-ac28-c0040da69540"
      },
      "outputs": [
        {
          "output_type": "execute_result",
          "data": {
            "text/plain": [
              "    mean_fit_time  std_fit_time  mean_score_time  std_score_time  \\\n",
              "0        0.006936      0.000714         0.006788        0.003133   \n",
              "1        0.006602      0.000260         0.005209        0.000279   \n",
              "2        0.006320      0.000075         0.005058        0.000096   \n",
              "3        0.006288      0.000057         0.005121        0.000115   \n",
              "4        0.006358      0.000112         0.005197        0.000266   \n",
              "5        0.010712      0.005438         0.007542        0.004234   \n",
              "6        0.006289      0.000302         0.005128        0.000150   \n",
              "7        0.006199      0.000175         0.005131        0.000196   \n",
              "8        0.008502      0.002306         0.005144        0.000250   \n",
              "9        0.006400      0.000385         0.005112        0.000181   \n",
              "10       0.006030      0.000144         0.004970        0.000119   \n",
              "11       0.006133      0.000231         0.005446        0.000874   \n",
              "12       0.006653      0.001053         0.004964        0.000074   \n",
              "13       0.006695      0.001038         0.005693        0.001396   \n",
              "14       0.009057      0.004136         0.007577        0.003359   \n",
              "15       0.005912      0.000021         0.004930        0.000063   \n",
              "16       0.005981      0.000084         0.004975        0.000042   \n",
              "17       0.006124      0.000055         0.005110        0.000120   \n",
              "18       0.006368      0.000239         0.007722        0.003879   \n",
              "19       0.006508      0.000174         0.005311        0.000202   \n",
              "20       0.006224      0.000094         0.005314        0.000462   \n",
              "21       0.007342      0.001890         0.005121        0.000081   \n",
              "22       0.006449      0.000393         0.007267        0.002801   \n",
              "23       0.006429      0.000169         0.005176        0.000087   \n",
              "24       0.006200      0.000083         0.005138        0.000072   \n",
              "25       0.006186      0.000075         0.005072        0.000036   \n",
              "26       0.006157      0.000093         0.005519        0.000910   \n",
              "27       0.006172      0.000080         0.005232        0.000288   \n",
              "28       0.009636      0.007113         0.005630        0.000987   \n",
              "\n",
              "   param_knn__n_neighbors                    params  split0_test_score  \\\n",
              "0                       1   {'knn__n_neighbors': 1}           0.894737   \n",
              "1                       2   {'knn__n_neighbors': 2}           0.894737   \n",
              "2                       3   {'knn__n_neighbors': 3}           0.894737   \n",
              "3                       4   {'knn__n_neighbors': 4}           0.894737   \n",
              "4                       5   {'knn__n_neighbors': 5}           0.894737   \n",
              "5                       6   {'knn__n_neighbors': 6}           0.894737   \n",
              "6                       7   {'knn__n_neighbors': 7}           0.842105   \n",
              "7                       8   {'knn__n_neighbors': 8}           0.789474   \n",
              "8                       9   {'knn__n_neighbors': 9}           0.789474   \n",
              "9                      10  {'knn__n_neighbors': 10}           0.763158   \n",
              "10                     11  {'knn__n_neighbors': 11}           0.763158   \n",
              "11                     12  {'knn__n_neighbors': 12}           0.763158   \n",
              "12                     13  {'knn__n_neighbors': 13}           0.736842   \n",
              "13                     14  {'knn__n_neighbors': 14}           0.763158   \n",
              "14                     15  {'knn__n_neighbors': 15}           0.763158   \n",
              "15                     16  {'knn__n_neighbors': 16}           0.736842   \n",
              "16                     17  {'knn__n_neighbors': 17}           0.789474   \n",
              "17                     18  {'knn__n_neighbors': 18}           0.789474   \n",
              "18                     19  {'knn__n_neighbors': 19}           0.789474   \n",
              "19                     20  {'knn__n_neighbors': 20}           0.763158   \n",
              "20                     21  {'knn__n_neighbors': 21}           0.763158   \n",
              "21                     22  {'knn__n_neighbors': 22}           0.763158   \n",
              "22                     23  {'knn__n_neighbors': 23}           0.763158   \n",
              "23                     24  {'knn__n_neighbors': 24}           0.763158   \n",
              "24                     25  {'knn__n_neighbors': 25}           0.736842   \n",
              "25                     26  {'knn__n_neighbors': 26}           0.763158   \n",
              "26                     27  {'knn__n_neighbors': 27}           0.710526   \n",
              "27                     28  {'knn__n_neighbors': 28}           0.736842   \n",
              "28                     29  {'knn__n_neighbors': 29}           0.736842   \n",
              "\n",
              "    split1_test_score  split2_test_score  split3_test_score  \\\n",
              "0            0.710526           0.837838           0.918919   \n",
              "1            0.684211           0.810811           0.702703   \n",
              "2            0.684211           0.783784           0.729730   \n",
              "3            0.657895           0.783784           0.702703   \n",
              "4            0.631579           0.783784           0.675676   \n",
              "5            0.684211           0.729730           0.648649   \n",
              "6            0.657895           0.756757           0.702703   \n",
              "7            0.631579           0.783784           0.621622   \n",
              "8            0.605263           0.702703           0.675676   \n",
              "9            0.657895           0.675676           0.594595   \n",
              "10           0.657895           0.675676           0.648649   \n",
              "11           0.631579           0.675676           0.621622   \n",
              "12           0.631579           0.702703           0.621622   \n",
              "13           0.605263           0.675676           0.621622   \n",
              "14           0.605263           0.675676           0.675676   \n",
              "15           0.631579           0.702703           0.621622   \n",
              "16           0.605263           0.702703           0.675676   \n",
              "17           0.631579           0.702703           0.621622   \n",
              "18           0.631579           0.702703           0.675676   \n",
              "19           0.605263           0.729730           0.621622   \n",
              "20           0.605263           0.729730           0.675676   \n",
              "21           0.605263           0.756757           0.621622   \n",
              "22           0.605263           0.756757           0.648649   \n",
              "23           0.578947           0.756757           0.648649   \n",
              "24           0.578947           0.756757           0.675676   \n",
              "25           0.578947           0.756757           0.675676   \n",
              "26           0.578947           0.756757           0.648649   \n",
              "27           0.578947           0.729730           0.648649   \n",
              "28           0.578947           0.756757           0.648649   \n",
              "\n",
              "    split4_test_score  mean_test_score  std_test_score  rank_test_score  \n",
              "0            0.864865         0.845377        0.072755                1  \n",
              "1            0.810811         0.780654        0.077732                2  \n",
              "2            0.783784         0.775249        0.070403                3  \n",
              "3            0.756757         0.759175        0.080542                6  \n",
              "4            0.810811         0.759317        0.094765                5  \n",
              "5            0.783784         0.748222        0.086123                7  \n",
              "6            0.837838         0.759459        0.072825                4  \n",
              "7            0.756757         0.716643        0.074413                9  \n",
              "8            0.783784         0.711380        0.069212               10  \n",
              "9            0.729730         0.684211        0.058483               23  \n",
              "10           0.756757         0.700427        0.049418               13  \n",
              "11           0.729730         0.684353        0.054891               22  \n",
              "12           0.729730         0.684495        0.048726               21  \n",
              "13           0.729730         0.679090        0.060657               25  \n",
              "14           0.756757         0.695306        0.058751               15  \n",
              "15           0.756757         0.689900        0.054590               18  \n",
              "16           0.783784         0.711380        0.069212               10  \n",
              "17           0.756757         0.700427        0.066420               13  \n",
              "18           0.810811         0.722048        0.068021                8  \n",
              "19           0.675676         0.679090        0.060657               25  \n",
              "20           0.729730         0.700711        0.055355               12  \n",
              "21           0.729730         0.695306        0.067974               16  \n",
              "22           0.702703         0.695306        0.061187               16  \n",
              "23           0.675676         0.684637        0.069156               20  \n",
              "24           0.675676         0.684780        0.062060               19  \n",
              "25           0.621622         0.679232        0.072722               24  \n",
              "26           0.675676         0.674111        0.059772               27  \n",
              "27           0.594595         0.657752        0.065906               29  \n",
              "28           0.621622         0.668563        0.067928               28  "
            ],
            "text/html": [
              "\n",
              "  <div id=\"df-ea0146c1-3ab0-4cf0-8102-3945cbb4cbdb\">\n",
              "    <div class=\"colab-df-container\">\n",
              "      <div>\n",
              "<style scoped>\n",
              "    .dataframe tbody tr th:only-of-type {\n",
              "        vertical-align: middle;\n",
              "    }\n",
              "\n",
              "    .dataframe tbody tr th {\n",
              "        vertical-align: top;\n",
              "    }\n",
              "\n",
              "    .dataframe thead th {\n",
              "        text-align: right;\n",
              "    }\n",
              "</style>\n",
              "<table border=\"1\" class=\"dataframe\">\n",
              "  <thead>\n",
              "    <tr style=\"text-align: right;\">\n",
              "      <th></th>\n",
              "      <th>mean_fit_time</th>\n",
              "      <th>std_fit_time</th>\n",
              "      <th>mean_score_time</th>\n",
              "      <th>std_score_time</th>\n",
              "      <th>param_knn__n_neighbors</th>\n",
              "      <th>params</th>\n",
              "      <th>split0_test_score</th>\n",
              "      <th>split1_test_score</th>\n",
              "      <th>split2_test_score</th>\n",
              "      <th>split3_test_score</th>\n",
              "      <th>split4_test_score</th>\n",
              "      <th>mean_test_score</th>\n",
              "      <th>std_test_score</th>\n",
              "      <th>rank_test_score</th>\n",
              "    </tr>\n",
              "  </thead>\n",
              "  <tbody>\n",
              "    <tr>\n",
              "      <th>0</th>\n",
              "      <td>0.006936</td>\n",
              "      <td>0.000714</td>\n",
              "      <td>0.006788</td>\n",
              "      <td>0.003133</td>\n",
              "      <td>1</td>\n",
              "      <td>{'knn__n_neighbors': 1}</td>\n",
              "      <td>0.894737</td>\n",
              "      <td>0.710526</td>\n",
              "      <td>0.837838</td>\n",
              "      <td>0.918919</td>\n",
              "      <td>0.864865</td>\n",
              "      <td>0.845377</td>\n",
              "      <td>0.072755</td>\n",
              "      <td>1</td>\n",
              "    </tr>\n",
              "    <tr>\n",
              "      <th>1</th>\n",
              "      <td>0.006602</td>\n",
              "      <td>0.000260</td>\n",
              "      <td>0.005209</td>\n",
              "      <td>0.000279</td>\n",
              "      <td>2</td>\n",
              "      <td>{'knn__n_neighbors': 2}</td>\n",
              "      <td>0.894737</td>\n",
              "      <td>0.684211</td>\n",
              "      <td>0.810811</td>\n",
              "      <td>0.702703</td>\n",
              "      <td>0.810811</td>\n",
              "      <td>0.780654</td>\n",
              "      <td>0.077732</td>\n",
              "      <td>2</td>\n",
              "    </tr>\n",
              "    <tr>\n",
              "      <th>2</th>\n",
              "      <td>0.006320</td>\n",
              "      <td>0.000075</td>\n",
              "      <td>0.005058</td>\n",
              "      <td>0.000096</td>\n",
              "      <td>3</td>\n",
              "      <td>{'knn__n_neighbors': 3}</td>\n",
              "      <td>0.894737</td>\n",
              "      <td>0.684211</td>\n",
              "      <td>0.783784</td>\n",
              "      <td>0.729730</td>\n",
              "      <td>0.783784</td>\n",
              "      <td>0.775249</td>\n",
              "      <td>0.070403</td>\n",
              "      <td>3</td>\n",
              "    </tr>\n",
              "    <tr>\n",
              "      <th>3</th>\n",
              "      <td>0.006288</td>\n",
              "      <td>0.000057</td>\n",
              "      <td>0.005121</td>\n",
              "      <td>0.000115</td>\n",
              "      <td>4</td>\n",
              "      <td>{'knn__n_neighbors': 4}</td>\n",
              "      <td>0.894737</td>\n",
              "      <td>0.657895</td>\n",
              "      <td>0.783784</td>\n",
              "      <td>0.702703</td>\n",
              "      <td>0.756757</td>\n",
              "      <td>0.759175</td>\n",
              "      <td>0.080542</td>\n",
              "      <td>6</td>\n",
              "    </tr>\n",
              "    <tr>\n",
              "      <th>4</th>\n",
              "      <td>0.006358</td>\n",
              "      <td>0.000112</td>\n",
              "      <td>0.005197</td>\n",
              "      <td>0.000266</td>\n",
              "      <td>5</td>\n",
              "      <td>{'knn__n_neighbors': 5}</td>\n",
              "      <td>0.894737</td>\n",
              "      <td>0.631579</td>\n",
              "      <td>0.783784</td>\n",
              "      <td>0.675676</td>\n",
              "      <td>0.810811</td>\n",
              "      <td>0.759317</td>\n",
              "      <td>0.094765</td>\n",
              "      <td>5</td>\n",
              "    </tr>\n",
              "    <tr>\n",
              "      <th>5</th>\n",
              "      <td>0.010712</td>\n",
              "      <td>0.005438</td>\n",
              "      <td>0.007542</td>\n",
              "      <td>0.004234</td>\n",
              "      <td>6</td>\n",
              "      <td>{'knn__n_neighbors': 6}</td>\n",
              "      <td>0.894737</td>\n",
              "      <td>0.684211</td>\n",
              "      <td>0.729730</td>\n",
              "      <td>0.648649</td>\n",
              "      <td>0.783784</td>\n",
              "      <td>0.748222</td>\n",
              "      <td>0.086123</td>\n",
              "      <td>7</td>\n",
              "    </tr>\n",
              "    <tr>\n",
              "      <th>6</th>\n",
              "      <td>0.006289</td>\n",
              "      <td>0.000302</td>\n",
              "      <td>0.005128</td>\n",
              "      <td>0.000150</td>\n",
              "      <td>7</td>\n",
              "      <td>{'knn__n_neighbors': 7}</td>\n",
              "      <td>0.842105</td>\n",
              "      <td>0.657895</td>\n",
              "      <td>0.756757</td>\n",
              "      <td>0.702703</td>\n",
              "      <td>0.837838</td>\n",
              "      <td>0.759459</td>\n",
              "      <td>0.072825</td>\n",
              "      <td>4</td>\n",
              "    </tr>\n",
              "    <tr>\n",
              "      <th>7</th>\n",
              "      <td>0.006199</td>\n",
              "      <td>0.000175</td>\n",
              "      <td>0.005131</td>\n",
              "      <td>0.000196</td>\n",
              "      <td>8</td>\n",
              "      <td>{'knn__n_neighbors': 8}</td>\n",
              "      <td>0.789474</td>\n",
              "      <td>0.631579</td>\n",
              "      <td>0.783784</td>\n",
              "      <td>0.621622</td>\n",
              "      <td>0.756757</td>\n",
              "      <td>0.716643</td>\n",
              "      <td>0.074413</td>\n",
              "      <td>9</td>\n",
              "    </tr>\n",
              "    <tr>\n",
              "      <th>8</th>\n",
              "      <td>0.008502</td>\n",
              "      <td>0.002306</td>\n",
              "      <td>0.005144</td>\n",
              "      <td>0.000250</td>\n",
              "      <td>9</td>\n",
              "      <td>{'knn__n_neighbors': 9}</td>\n",
              "      <td>0.789474</td>\n",
              "      <td>0.605263</td>\n",
              "      <td>0.702703</td>\n",
              "      <td>0.675676</td>\n",
              "      <td>0.783784</td>\n",
              "      <td>0.711380</td>\n",
              "      <td>0.069212</td>\n",
              "      <td>10</td>\n",
              "    </tr>\n",
              "    <tr>\n",
              "      <th>9</th>\n",
              "      <td>0.006400</td>\n",
              "      <td>0.000385</td>\n",
              "      <td>0.005112</td>\n",
              "      <td>0.000181</td>\n",
              "      <td>10</td>\n",
              "      <td>{'knn__n_neighbors': 10}</td>\n",
              "      <td>0.763158</td>\n",
              "      <td>0.657895</td>\n",
              "      <td>0.675676</td>\n",
              "      <td>0.594595</td>\n",
              "      <td>0.729730</td>\n",
              "      <td>0.684211</td>\n",
              "      <td>0.058483</td>\n",
              "      <td>23</td>\n",
              "    </tr>\n",
              "    <tr>\n",
              "      <th>10</th>\n",
              "      <td>0.006030</td>\n",
              "      <td>0.000144</td>\n",
              "      <td>0.004970</td>\n",
              "      <td>0.000119</td>\n",
              "      <td>11</td>\n",
              "      <td>{'knn__n_neighbors': 11}</td>\n",
              "      <td>0.763158</td>\n",
              "      <td>0.657895</td>\n",
              "      <td>0.675676</td>\n",
              "      <td>0.648649</td>\n",
              "      <td>0.756757</td>\n",
              "      <td>0.700427</td>\n",
              "      <td>0.049418</td>\n",
              "      <td>13</td>\n",
              "    </tr>\n",
              "    <tr>\n",
              "      <th>11</th>\n",
              "      <td>0.006133</td>\n",
              "      <td>0.000231</td>\n",
              "      <td>0.005446</td>\n",
              "      <td>0.000874</td>\n",
              "      <td>12</td>\n",
              "      <td>{'knn__n_neighbors': 12}</td>\n",
              "      <td>0.763158</td>\n",
              "      <td>0.631579</td>\n",
              "      <td>0.675676</td>\n",
              "      <td>0.621622</td>\n",
              "      <td>0.729730</td>\n",
              "      <td>0.684353</td>\n",
              "      <td>0.054891</td>\n",
              "      <td>22</td>\n",
              "    </tr>\n",
              "    <tr>\n",
              "      <th>12</th>\n",
              "      <td>0.006653</td>\n",
              "      <td>0.001053</td>\n",
              "      <td>0.004964</td>\n",
              "      <td>0.000074</td>\n",
              "      <td>13</td>\n",
              "      <td>{'knn__n_neighbors': 13}</td>\n",
              "      <td>0.736842</td>\n",
              "      <td>0.631579</td>\n",
              "      <td>0.702703</td>\n",
              "      <td>0.621622</td>\n",
              "      <td>0.729730</td>\n",
              "      <td>0.684495</td>\n",
              "      <td>0.048726</td>\n",
              "      <td>21</td>\n",
              "    </tr>\n",
              "    <tr>\n",
              "      <th>13</th>\n",
              "      <td>0.006695</td>\n",
              "      <td>0.001038</td>\n",
              "      <td>0.005693</td>\n",
              "      <td>0.001396</td>\n",
              "      <td>14</td>\n",
              "      <td>{'knn__n_neighbors': 14}</td>\n",
              "      <td>0.763158</td>\n",
              "      <td>0.605263</td>\n",
              "      <td>0.675676</td>\n",
              "      <td>0.621622</td>\n",
              "      <td>0.729730</td>\n",
              "      <td>0.679090</td>\n",
              "      <td>0.060657</td>\n",
              "      <td>25</td>\n",
              "    </tr>\n",
              "    <tr>\n",
              "      <th>14</th>\n",
              "      <td>0.009057</td>\n",
              "      <td>0.004136</td>\n",
              "      <td>0.007577</td>\n",
              "      <td>0.003359</td>\n",
              "      <td>15</td>\n",
              "      <td>{'knn__n_neighbors': 15}</td>\n",
              "      <td>0.763158</td>\n",
              "      <td>0.605263</td>\n",
              "      <td>0.675676</td>\n",
              "      <td>0.675676</td>\n",
              "      <td>0.756757</td>\n",
              "      <td>0.695306</td>\n",
              "      <td>0.058751</td>\n",
              "      <td>15</td>\n",
              "    </tr>\n",
              "    <tr>\n",
              "      <th>15</th>\n",
              "      <td>0.005912</td>\n",
              "      <td>0.000021</td>\n",
              "      <td>0.004930</td>\n",
              "      <td>0.000063</td>\n",
              "      <td>16</td>\n",
              "      <td>{'knn__n_neighbors': 16}</td>\n",
              "      <td>0.736842</td>\n",
              "      <td>0.631579</td>\n",
              "      <td>0.702703</td>\n",
              "      <td>0.621622</td>\n",
              "      <td>0.756757</td>\n",
              "      <td>0.689900</td>\n",
              "      <td>0.054590</td>\n",
              "      <td>18</td>\n",
              "    </tr>\n",
              "    <tr>\n",
              "      <th>16</th>\n",
              "      <td>0.005981</td>\n",
              "      <td>0.000084</td>\n",
              "      <td>0.004975</td>\n",
              "      <td>0.000042</td>\n",
              "      <td>17</td>\n",
              "      <td>{'knn__n_neighbors': 17}</td>\n",
              "      <td>0.789474</td>\n",
              "      <td>0.605263</td>\n",
              "      <td>0.702703</td>\n",
              "      <td>0.675676</td>\n",
              "      <td>0.783784</td>\n",
              "      <td>0.711380</td>\n",
              "      <td>0.069212</td>\n",
              "      <td>10</td>\n",
              "    </tr>\n",
              "    <tr>\n",
              "      <th>17</th>\n",
              "      <td>0.006124</td>\n",
              "      <td>0.000055</td>\n",
              "      <td>0.005110</td>\n",
              "      <td>0.000120</td>\n",
              "      <td>18</td>\n",
              "      <td>{'knn__n_neighbors': 18}</td>\n",
              "      <td>0.789474</td>\n",
              "      <td>0.631579</td>\n",
              "      <td>0.702703</td>\n",
              "      <td>0.621622</td>\n",
              "      <td>0.756757</td>\n",
              "      <td>0.700427</td>\n",
              "      <td>0.066420</td>\n",
              "      <td>13</td>\n",
              "    </tr>\n",
              "    <tr>\n",
              "      <th>18</th>\n",
              "      <td>0.006368</td>\n",
              "      <td>0.000239</td>\n",
              "      <td>0.007722</td>\n",
              "      <td>0.003879</td>\n",
              "      <td>19</td>\n",
              "      <td>{'knn__n_neighbors': 19}</td>\n",
              "      <td>0.789474</td>\n",
              "      <td>0.631579</td>\n",
              "      <td>0.702703</td>\n",
              "      <td>0.675676</td>\n",
              "      <td>0.810811</td>\n",
              "      <td>0.722048</td>\n",
              "      <td>0.068021</td>\n",
              "      <td>8</td>\n",
              "    </tr>\n",
              "    <tr>\n",
              "      <th>19</th>\n",
              "      <td>0.006508</td>\n",
              "      <td>0.000174</td>\n",
              "      <td>0.005311</td>\n",
              "      <td>0.000202</td>\n",
              "      <td>20</td>\n",
              "      <td>{'knn__n_neighbors': 20}</td>\n",
              "      <td>0.763158</td>\n",
              "      <td>0.605263</td>\n",
              "      <td>0.729730</td>\n",
              "      <td>0.621622</td>\n",
              "      <td>0.675676</td>\n",
              "      <td>0.679090</td>\n",
              "      <td>0.060657</td>\n",
              "      <td>25</td>\n",
              "    </tr>\n",
              "    <tr>\n",
              "      <th>20</th>\n",
              "      <td>0.006224</td>\n",
              "      <td>0.000094</td>\n",
              "      <td>0.005314</td>\n",
              "      <td>0.000462</td>\n",
              "      <td>21</td>\n",
              "      <td>{'knn__n_neighbors': 21}</td>\n",
              "      <td>0.763158</td>\n",
              "      <td>0.605263</td>\n",
              "      <td>0.729730</td>\n",
              "      <td>0.675676</td>\n",
              "      <td>0.729730</td>\n",
              "      <td>0.700711</td>\n",
              "      <td>0.055355</td>\n",
              "      <td>12</td>\n",
              "    </tr>\n",
              "    <tr>\n",
              "      <th>21</th>\n",
              "      <td>0.007342</td>\n",
              "      <td>0.001890</td>\n",
              "      <td>0.005121</td>\n",
              "      <td>0.000081</td>\n",
              "      <td>22</td>\n",
              "      <td>{'knn__n_neighbors': 22}</td>\n",
              "      <td>0.763158</td>\n",
              "      <td>0.605263</td>\n",
              "      <td>0.756757</td>\n",
              "      <td>0.621622</td>\n",
              "      <td>0.729730</td>\n",
              "      <td>0.695306</td>\n",
              "      <td>0.067974</td>\n",
              "      <td>16</td>\n",
              "    </tr>\n",
              "    <tr>\n",
              "      <th>22</th>\n",
              "      <td>0.006449</td>\n",
              "      <td>0.000393</td>\n",
              "      <td>0.007267</td>\n",
              "      <td>0.002801</td>\n",
              "      <td>23</td>\n",
              "      <td>{'knn__n_neighbors': 23}</td>\n",
              "      <td>0.763158</td>\n",
              "      <td>0.605263</td>\n",
              "      <td>0.756757</td>\n",
              "      <td>0.648649</td>\n",
              "      <td>0.702703</td>\n",
              "      <td>0.695306</td>\n",
              "      <td>0.061187</td>\n",
              "      <td>16</td>\n",
              "    </tr>\n",
              "    <tr>\n",
              "      <th>23</th>\n",
              "      <td>0.006429</td>\n",
              "      <td>0.000169</td>\n",
              "      <td>0.005176</td>\n",
              "      <td>0.000087</td>\n",
              "      <td>24</td>\n",
              "      <td>{'knn__n_neighbors': 24}</td>\n",
              "      <td>0.763158</td>\n",
              "      <td>0.578947</td>\n",
              "      <td>0.756757</td>\n",
              "      <td>0.648649</td>\n",
              "      <td>0.675676</td>\n",
              "      <td>0.684637</td>\n",
              "      <td>0.069156</td>\n",
              "      <td>20</td>\n",
              "    </tr>\n",
              "    <tr>\n",
              "      <th>24</th>\n",
              "      <td>0.006200</td>\n",
              "      <td>0.000083</td>\n",
              "      <td>0.005138</td>\n",
              "      <td>0.000072</td>\n",
              "      <td>25</td>\n",
              "      <td>{'knn__n_neighbors': 25}</td>\n",
              "      <td>0.736842</td>\n",
              "      <td>0.578947</td>\n",
              "      <td>0.756757</td>\n",
              "      <td>0.675676</td>\n",
              "      <td>0.675676</td>\n",
              "      <td>0.684780</td>\n",
              "      <td>0.062060</td>\n",
              "      <td>19</td>\n",
              "    </tr>\n",
              "    <tr>\n",
              "      <th>25</th>\n",
              "      <td>0.006186</td>\n",
              "      <td>0.000075</td>\n",
              "      <td>0.005072</td>\n",
              "      <td>0.000036</td>\n",
              "      <td>26</td>\n",
              "      <td>{'knn__n_neighbors': 26}</td>\n",
              "      <td>0.763158</td>\n",
              "      <td>0.578947</td>\n",
              "      <td>0.756757</td>\n",
              "      <td>0.675676</td>\n",
              "      <td>0.621622</td>\n",
              "      <td>0.679232</td>\n",
              "      <td>0.072722</td>\n",
              "      <td>24</td>\n",
              "    </tr>\n",
              "    <tr>\n",
              "      <th>26</th>\n",
              "      <td>0.006157</td>\n",
              "      <td>0.000093</td>\n",
              "      <td>0.005519</td>\n",
              "      <td>0.000910</td>\n",
              "      <td>27</td>\n",
              "      <td>{'knn__n_neighbors': 27}</td>\n",
              "      <td>0.710526</td>\n",
              "      <td>0.578947</td>\n",
              "      <td>0.756757</td>\n",
              "      <td>0.648649</td>\n",
              "      <td>0.675676</td>\n",
              "      <td>0.674111</td>\n",
              "      <td>0.059772</td>\n",
              "      <td>27</td>\n",
              "    </tr>\n",
              "    <tr>\n",
              "      <th>27</th>\n",
              "      <td>0.006172</td>\n",
              "      <td>0.000080</td>\n",
              "      <td>0.005232</td>\n",
              "      <td>0.000288</td>\n",
              "      <td>28</td>\n",
              "      <td>{'knn__n_neighbors': 28}</td>\n",
              "      <td>0.736842</td>\n",
              "      <td>0.578947</td>\n",
              "      <td>0.729730</td>\n",
              "      <td>0.648649</td>\n",
              "      <td>0.594595</td>\n",
              "      <td>0.657752</td>\n",
              "      <td>0.065906</td>\n",
              "      <td>29</td>\n",
              "    </tr>\n",
              "    <tr>\n",
              "      <th>28</th>\n",
              "      <td>0.009636</td>\n",
              "      <td>0.007113</td>\n",
              "      <td>0.005630</td>\n",
              "      <td>0.000987</td>\n",
              "      <td>29</td>\n",
              "      <td>{'knn__n_neighbors': 29}</td>\n",
              "      <td>0.736842</td>\n",
              "      <td>0.578947</td>\n",
              "      <td>0.756757</td>\n",
              "      <td>0.648649</td>\n",
              "      <td>0.621622</td>\n",
              "      <td>0.668563</td>\n",
              "      <td>0.067928</td>\n",
              "      <td>28</td>\n",
              "    </tr>\n",
              "  </tbody>\n",
              "</table>\n",
              "</div>\n",
              "      <button class=\"colab-df-convert\" onclick=\"convertToInteractive('df-ea0146c1-3ab0-4cf0-8102-3945cbb4cbdb')\"\n",
              "              title=\"Convert this dataframe to an interactive table.\"\n",
              "              style=\"display:none;\">\n",
              "        \n",
              "  <svg xmlns=\"http://www.w3.org/2000/svg\" height=\"24px\"viewBox=\"0 0 24 24\"\n",
              "       width=\"24px\">\n",
              "    <path d=\"M0 0h24v24H0V0z\" fill=\"none\"/>\n",
              "    <path d=\"M18.56 5.44l.94 2.06.94-2.06 2.06-.94-2.06-.94-.94-2.06-.94 2.06-2.06.94zm-11 1L8.5 8.5l.94-2.06 2.06-.94-2.06-.94L8.5 2.5l-.94 2.06-2.06.94zm10 10l.94 2.06.94-2.06 2.06-.94-2.06-.94-.94-2.06-.94 2.06-2.06.94z\"/><path d=\"M17.41 7.96l-1.37-1.37c-.4-.4-.92-.59-1.43-.59-.52 0-1.04.2-1.43.59L10.3 9.45l-7.72 7.72c-.78.78-.78 2.05 0 2.83L4 21.41c.39.39.9.59 1.41.59.51 0 1.02-.2 1.41-.59l7.78-7.78 2.81-2.81c.8-.78.8-2.07 0-2.86zM5.41 20L4 18.59l7.72-7.72 1.47 1.35L5.41 20z\"/>\n",
              "  </svg>\n",
              "      </button>\n",
              "      \n",
              "  <style>\n",
              "    .colab-df-container {\n",
              "      display:flex;\n",
              "      flex-wrap:wrap;\n",
              "      gap: 12px;\n",
              "    }\n",
              "\n",
              "    .colab-df-convert {\n",
              "      background-color: #E8F0FE;\n",
              "      border: none;\n",
              "      border-radius: 50%;\n",
              "      cursor: pointer;\n",
              "      display: none;\n",
              "      fill: #1967D2;\n",
              "      height: 32px;\n",
              "      padding: 0 0 0 0;\n",
              "      width: 32px;\n",
              "    }\n",
              "\n",
              "    .colab-df-convert:hover {\n",
              "      background-color: #E2EBFA;\n",
              "      box-shadow: 0px 1px 2px rgba(60, 64, 67, 0.3), 0px 1px 3px 1px rgba(60, 64, 67, 0.15);\n",
              "      fill: #174EA6;\n",
              "    }\n",
              "\n",
              "    [theme=dark] .colab-df-convert {\n",
              "      background-color: #3B4455;\n",
              "      fill: #D2E3FC;\n",
              "    }\n",
              "\n",
              "    [theme=dark] .colab-df-convert:hover {\n",
              "      background-color: #434B5C;\n",
              "      box-shadow: 0px 1px 3px 1px rgba(0, 0, 0, 0.15);\n",
              "      filter: drop-shadow(0px 1px 2px rgba(0, 0, 0, 0.3));\n",
              "      fill: #FFFFFF;\n",
              "    }\n",
              "  </style>\n",
              "\n",
              "      <script>\n",
              "        const buttonEl =\n",
              "          document.querySelector('#df-ea0146c1-3ab0-4cf0-8102-3945cbb4cbdb button.colab-df-convert');\n",
              "        buttonEl.style.display =\n",
              "          google.colab.kernel.accessAllowed ? 'block' : 'none';\n",
              "\n",
              "        async function convertToInteractive(key) {\n",
              "          const element = document.querySelector('#df-ea0146c1-3ab0-4cf0-8102-3945cbb4cbdb');\n",
              "          const dataTable =\n",
              "            await google.colab.kernel.invokeFunction('convertToInteractive',\n",
              "                                                     [key], {});\n",
              "          if (!dataTable) return;\n",
              "\n",
              "          const docLinkHtml = 'Like what you see? Visit the ' +\n",
              "            '<a target=\"_blank\" href=https://colab.research.google.com/notebooks/data_table.ipynb>data table notebook</a>'\n",
              "            + ' to learn more about interactive tables.';\n",
              "          element.innerHTML = '';\n",
              "          dataTable['output_type'] = 'display_data';\n",
              "          await google.colab.output.renderOutput(dataTable, element);\n",
              "          const docLink = document.createElement('div');\n",
              "          docLink.innerHTML = docLinkHtml;\n",
              "          element.appendChild(docLink);\n",
              "        }\n",
              "      </script>\n",
              "    </div>\n",
              "  </div>\n",
              "  "
            ]
          },
          "metadata": {},
          "execution_count": 53
        }
      ],
      "source": [
        "#CODE HERE\n",
        "pd.DataFrame(full_cv_classifier.cv_results_)"
      ]
    },
    {
      "cell_type": "code",
      "source": [
        "pd.DataFrame(full_cv_classifier.cv_results_)['mean_test_score'].plot()"
      ],
      "metadata": {
        "colab": {
          "base_uri": "https://localhost:8080/",
          "height": 282
        },
        "id": "evLUZP55BkkG",
        "outputId": "ac49fe06-67cf-44c7-d0bd-76d8df253c0b"
      },
      "execution_count": 54,
      "outputs": [
        {
          "output_type": "execute_result",
          "data": {
            "text/plain": [
              "<matplotlib.axes._subplots.AxesSubplot at 0x7fd97cd873d0>"
            ]
          },
          "metadata": {},
          "execution_count": 54
        },
        {
          "output_type": "display_data",
          "data": {
            "text/plain": [
              "<Figure size 432x288 with 1 Axes>"
            ],
            "image/png": "[encoded data removed]"
          },
          "metadata": {
            "needs_background": "light"
          }
        }
      ]
    },
    {
      "cell_type": "code",
      "source": [
        "full_cv_classifier.cv_results_['mean_test_score']"
      ],
      "metadata": {
        "colab": {
          "base_uri": "https://localhost:8080/"
        },
        "id": "Ywo860hoDFNy",
        "outputId": "499618bf-f32b-41d1-c857-b117ffb16f19"
      },
      "execution_count": 59,
      "outputs": [
        {
          "output_type": "execute_result",
          "data": {
            "text/plain": [
              "array([0.84537696, 0.78065434, 0.77524893, 0.75917496, 0.75931721,\n",
              "       0.74822191, 0.75945946, 0.71664296, 0.7113798 , 0.68421053,\n",
              "       0.70042674, 0.68435277, 0.68449502, 0.67908962, 0.69530583,\n",
              "       0.68990043, 0.7113798 , 0.70042674, 0.72204836, 0.67908962,\n",
              "       0.70071124, 0.69530583, 0.69530583, 0.68463727, 0.68477952,\n",
              "       0.67923186, 0.67411095, 0.65775249, 0.6685633 ])"
            ]
          },
          "metadata": {},
          "execution_count": 59
        }
      ]
    },
    {
      "cell_type": "code",
      "execution_count": null,
      "metadata": {
        "id": "K_51TXgcjE3a",
        "outputId": "afb39642-8b98-45bd-f05b-75b8b1edd51e"
      },
      "outputs": [
        {
          "data": {
            "text/plain": [
              "array([0.84537696, 0.78065434, 0.77524893, 0.75917496, 0.75931721,\n",
              "       0.74822191, 0.75945946, 0.71664296, 0.7113798 , 0.68421053,\n",
              "       0.70042674, 0.68435277, 0.68449502, 0.67908962, 0.69530583,\n",
              "       0.68990043, 0.7113798 , 0.70042674, 0.72204836, 0.67908962,\n",
              "       0.70071124, 0.69530583, 0.69530583, 0.68463727, 0.68477952,\n",
              "       0.67923186, 0.67411095, 0.65775249, 0.6685633 ])"
            ]
          },
          "execution_count": 114,
          "metadata": {},
          "output_type": "execute_result"
        }
      ],
      "source": []
    },
    {
      "cell_type": "code",
      "execution_count": null,
      "metadata": {
        "id": "aolP6qEKjE3a",
        "outputId": "8c1490d5-07f9-4576-aadd-12ccc1145ee0"
      },
      "outputs": [
        {
          "data": {
            "text/plain": [
              "Text(0, 0.5, 'Accuracy')"
            ]
          },
          "execution_count": 115,
          "metadata": {},
          "output_type": "execute_result"
        },
        {
          "data": {
            "image/png": "[encoded data removed]",
            "text/plain": [
              "<Figure size 432x288 with 1 Axes>"
            ]
          },
          "metadata": {
            "needs_background": "light"
          },
          "output_type": "display_data"
        }
      ],
      "source": []
    },
    {
      "cell_type": "markdown",
      "metadata": {
        "id": "KV6AxTTGjE3a"
      },
      "source": [
        "### Final Model Evaluation\n",
        "\n",
        "**TASK: Using the grid classifier object from the previous step, get a final performance classification report and confusion matrix.**"
      ]
    },
    {
      "cell_type": "code",
      "execution_count": 55,
      "metadata": {
        "id": "DKs9mIFWjE3a"
      },
      "outputs": [],
      "source": [
        "#Code Here\n",
        "y_pred = full_cv_classifier.predict(X_test)"
      ]
    },
    {
      "cell_type": "code",
      "source": [
        "from sklearn.metrics import classification_report,confusion_matrix"
      ],
      "metadata": {
        "id": "0Dah-5fECKke"
      },
      "execution_count": 56,
      "outputs": []
    },
    {
      "cell_type": "code",
      "source": [
        "confusion_matrix(y_test,y_pred)"
      ],
      "metadata": {
        "colab": {
          "base_uri": "https://localhost:8080/"
        },
        "id": "LtxCH9FRCUNE",
        "outputId": "ee817dbd-1a82-45f1-9140-466f8de1a6b9"
      },
      "execution_count": 57,
      "outputs": [
        {
          "output_type": "execute_result",
          "data": {
            "text/plain": [
              "array([[12,  1],\n",
              "       [ 1,  7]])"
            ]
          },
          "metadata": {},
          "execution_count": 57
        }
      ]
    },
    {
      "cell_type": "code",
      "execution_count": null,
      "metadata": {
        "id": "NQqenSIYjE3a",
        "outputId": "801c1e50-f6cd-4095-c0e2-7e8c1076d11c"
      },
      "outputs": [
        {
          "data": {
            "text/plain": [
              "array([[12,  1],\n",
              "       [ 1,  7]], dtype=int64)"
            ]
          },
          "execution_count": 121,
          "metadata": {},
          "output_type": "execute_result"
        }
      ],
      "source": []
    },
    {
      "cell_type": "code",
      "source": [
        "print(classification_report(y_test,y_pred))"
      ],
      "metadata": {
        "colab": {
          "base_uri": "https://localhost:8080/"
        },
        "id": "mO9kW3UECfPF",
        "outputId": "497ddd62-d8c5-447b-fb9b-55369ab3059c"
      },
      "execution_count": 58,
      "outputs": [
        {
          "output_type": "stream",
          "name": "stdout",
          "text": [
            "              precision    recall  f1-score   support\n",
            "\n",
            "           M       0.92      0.92      0.92        13\n",
            "           R       0.88      0.88      0.88         8\n",
            "\n",
            "    accuracy                           0.90        21\n",
            "   macro avg       0.90      0.90      0.90        21\n",
            "weighted avg       0.90      0.90      0.90        21\n",
            "\n"
          ]
        }
      ]
    },
    {
      "cell_type": "code",
      "execution_count": null,
      "metadata": {
        "id": "b4l7ZxPbjE3a",
        "outputId": "89746184-c407-484d-b481-1f3536de427c"
      },
      "outputs": [
        {
          "name": "stdout",
          "output_type": "stream",
          "text": [
            "              precision    recall  f1-score   support\n",
            "\n",
            "           M       0.92      0.92      0.92        13\n",
            "           R       0.88      0.88      0.88         8\n",
            "\n",
            "    accuracy                           0.90        21\n",
            "   macro avg       0.90      0.90      0.90        21\n",
            "weighted avg       0.90      0.90      0.90        21\n",
            "\n"
          ]
        }
      ],
      "source": []
    },
    {
      "cell_type": "markdown",
      "metadata": {
        "id": "wAEzCHlDjE3a"
      },
      "source": [
        "### Great Job!"
      ]
    }
  ],
  "metadata": {
    "kernelspec": {
      "display_name": "Python 3",
      "language": "python",
      "name": "python3"
    },
    "language_info": {
      "codemirror_mode": {
        "name": "ipython",
        "version": 3
      },
      "file_extension": ".py",
      "mimetype": "text/x-python",
      "name": "python",
      "nbconvert_exporter": "python",
      "pygments_lexer": "ipython3",
      "version": "3.7.6"
    },
    "colab": {
      "provenance": [],
      "include_colab_link": true
    }
  },
  "nbformat": 4,
  "nbformat_minor": 0
}